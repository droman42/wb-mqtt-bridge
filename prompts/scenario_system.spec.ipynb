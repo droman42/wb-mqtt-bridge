{
 "cells": [
  {
   "cell_type": "markdown",
   "metadata": {},
   "source": [
    "# Scenario System Design Conversation"
   ]
  },
  {
   "cell_type": "markdown",
   "metadata": {},
   "source": [
    "## Initial Request\n",
    "\n",
    "User: Let me explain the concept of a scenario for AV system. Similar concept is implemented with Logitech Harmony universal remotes. In a nutshell, each scenario has a startup sequence - which devices to turn on, which input and output channel should be selected, etc.\n",
    "\n",
    "When a scenario is selected, the startup sequence is executed, but it checks, if a device was involved in a previuos scenario, it stays online, but ight change input or output.\n",
    "\n",
    "Each device, involved in a scenario fulfills a certain role like screen, source, volume control, resolution control, etc. A shutdon is a power turn off, but if it's not explicit (see above about scenario switch), only those devices, which are not involved in a new scenario are turned off."
   ]
  },
  {
   "cell_type": "markdown",
   "metadata": {},
   "source": [
    "## Initial Questions\n",
    "\n",
    "1. **Device Roles and Capabilities**\n",
    "   - Currently, devices have commands but no explicit role definitions. Should we add a new field in device configurations to specify roles (e.g., \"screen\", \"source\", \"volume_control\", \"resolution_control\")?\n",
    "   - Should roles be hierarchical (e.g., a device can have multiple roles) or mutually exclusive?\n",
    "\n",
    "2. **Scenario Configuration**\n",
    "   - Where should scenario configurations be stored? Should they be in a separate directory (e.g., `config/scenarios/`) or integrated into the existing device configurations?\n",
    "   - Should scenarios support conditional execution (e.g., \"if device X is already on, skip power on command\")?\n",
    "\n",
    "3. **State Management**\n",
    "   - Currently, devices maintain their own state. Should we add a global state manager to track which devices are involved in which scenarios?\n",
    "   - How should we handle device state persistence between scenario switches?\n",
    "\n",
    "4. **Error Handling**\n",
    "   - How should we handle failures during scenario execution? Should we implement rollback mechanisms?\n",
    "   - Should scenarios have a timeout mechanism for commands?\n",
    "\n",
    "5. **Integration with Existing System**\n",
    "   - Should scenarios be exposed through the existing REST API or require new endpoints?\n",
    "   - How should scenarios interact with the MQTT messaging system?\n",
    "\n",
    "6. **Device Dependencies**\n",
    "   - Should scenarios support device dependencies (e.g., \"turn on screen before source\")?\n",
    "   - How should we handle circular dependencies?\n",
    "\n",
    "7. **Non-AV Devices**\n",
    "   - How should we handle non-AV devices in scenarios? Should they have different role types?\n",
    "   - Should we implement a different configuration structure for non-AV devices?\n",
    "\n",
    "8. **Scenario Validation**\n",
    "   - Should we implement validation for scenario configurations?\n",
    "   - How should we handle missing or misconfigured devices in a scenario?\n",
    "\n",
    "9. **User Interface**\n",
    "   - Should we add a web interface for scenario management?\n",
    "   - How should scenarios be triggered (API, MQTT, web interface)?\n",
    "\n",
    "10. **Performance Considerations**\n",
    "    - Should scenario execution be parallel or sequential?\n",
    "    - How should we handle large numbers of devices in a scenario?"
   ]
  },
  {
   "cell_type": "markdown",
   "metadata": {},
   "source": [
    "## User Responses\n",
    "\n",
    "1. commands should rather have a role attribute or be grouped by roles. Not all commands are role relevant\n",
    "\n",
    "2. config/scenarios is fine. yes on conditional execution for startup/shutdown\n",
    "\n",
    "3. A scenarion should have it's own state. When a scenario is switched, a previous scenario reference should be a passed to the initialisation procedure, None if no scenario was active. If true shutdown is executed (without switch to a new scenario), current scenario should be set to None. Same for system startup/shutdown/reload\n",
    "\n",
    "4. elaborate more\n",
    "\n",
    "5. yes on REST API, on MQTT scenarios are supposed to delegate actions to involved devices\n",
    "\n",
    "6. yes. circular dependencies should be reported, it's a critical config failure\n",
    "\n",
    "7. Nothing special about non-AV devices. we will define a procedure for scenario configuration later (it ight be a simple UI)\n",
    "\n",
    "8. Yes, we need a validation. Misconfiguration is a critical failure. Important sidenote: a scenario can't have duplicated functions, startup/shutdown sequences are the only exception to this rule\n",
    "\n",
    "9. let's discuss it later\n",
    "\n",
    "10. Sequential for startup/shutdown. The rest doesn't matter"
   ]
  }
 ],
 "metadata": {
  "language_info": {
   "name": "python"
  }
 },
 "nbformat": 4,
 "nbformat_minor": 2
}
