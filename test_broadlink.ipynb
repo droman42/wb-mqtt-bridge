{
 "cells": [
  {
   "cell_type": "markdown",
   "metadata": {},
   "source": [
    "# Broadlink Device Testing\n",
    "\n",
    "This notebook provides functionality to test Broadlink device commands for the kitchen hood."
   ]
  },
  {
   "cell_type": "markdown",
   "metadata": {},
   "source": [
    "## Device Discovery and Setup\n",
    "\n",
    "This section discovers the Broadlink device and authenticates with it. The device information is loaded from the configuration file."
   ]
  },
  {
   "cell_type": "code",
   "execution_count": null,
   "metadata": {},
   "outputs": [],
   "source": [
    "import broadlink\n",
    "import json\n",
    "import base64\n",
    "\n",
    "# Load device configuration\n",
    "with open('config/devices/kitchen_hood.json', 'r') as f:\n",
    "    config = json.load(f)\n",
    "\n",
    "# Create device instance\n",
    "device = broadlink.rm4pro(\n",
    "    host=(config['broadlink']['host'], 80),\n",
    "    mac=bytes.fromhex(config['broadlink']['mac'].replace(':', '')),\n",
    "    devtype=int(config['broadlink']['device_class'], 16)\n",
    ")\n",
    "\n",
    "# Print device information\n",
    "print(f\"Device: {device}\")\n",
    "print(f\"IP: {device.host}\")\n",
    "print(f\"MAC: {device.mac.hex(':')}\")\n",
    "print(f\"Type: {hex(device.devtype)}\")\n",
    "print(f\"Device class: {device.__class__}\")\n",
    "\n",
    "# Authenticate with device\n",
    "try:\n",
    "    device.auth()\n",
    "    print(\"Authentication successful\")\n",
    "except Exception as e:\n",
    "    print(f\"Authentication failed: {e}\")"
   ]
  },
  {
   "cell_type": "markdown",
   "metadata": {},
   "source": [
    "## Light On\n",
    "\n",
    "This section tests the light control commands for the kitchen hood."
   ]
  },
  {
   "cell_type": "code",
   "execution_count": null,
   "metadata": {},
   "outputs": [],
   "source": [
    "def send_command(command_name, control_group=None):\n",
    "    \"\"\"Send a command to the device.\n",
    "    \n",
    "    Args:\n",
    "        command_name: Name of the command to send\n",
    "        control_group: Optional group name from config. If not provided, function will search all groups\n",
    "    \"\"\"\n",
    "    # Find the command in the config structure\n",
    "    action = None\n",
    "    action_group = None\n",
    "    \n",
    "    if control_group and control_group in config['commands']:\n",
    "        # Search only in the specified control group\n",
    "        for act in config['commands'][control_group]['actions']:\n",
    "            if act['name'] == command_name:\n",
    "                action = act\n",
    "                action_group = control_group\n",
    "                break\n",
    "    else:\n",
    "        # Search in all control groups\n",
    "        for group_name, group in config['commands'].items():\n",
    "            for act in group['actions']:\n",
    "                if act['name'] == command_name:\n",
    "                    action = act\n",
    "                    action_group = group_name\n",
    "                    break\n",
    "            if action:\n",
    "                break\n",
    "    \n",
    "    if not action:\n",
    "        print(f\"Command '{command_name}' not found\")\n",
    "        return\n",
    "    \n",
    "    print(f\"Sending command: {action['description']}\")\n",
    "    print(f\"Control group: {action_group}\")\n",
    "    \n",
    "    # Decode and send the RF code\n",
    "    rf_code = base64.b64decode(action['rf_code'])\n",
    "    print(f\"Code={action['rf_code']}\")\n",
    "    print(f\"Hex: {rf_code.hex()}\")\n",
    "    \n",
    "    device.send_data(rf_code)\n",
    "    print(\"Command sent successfully\")\n",
    "\n",
    "# Test light on command\n",
    "send_command('light_off', 'light_control')\n"
   ]
  },
  {
   "cell_type": "markdown",
   "metadata": {},
   "source": [
    "## Light Off\n",
    "\n",
    "This section tests the light control commands for the kitchen hood."
   ]
  },
  {
   "cell_type": "code",
   "execution_count": null,
   "metadata": {},
   "outputs": [],
   "source": [
    "def send_command(command_name):\n",
    "    \"\"\"Send a command to the device.\"\"\"\n",
    "    command = config['commands'][command_name]\n",
    "    print(f\"Sending command: {command['description']}\")\n",
    "    \n",
    "    # Decode and send the RF code\n",
    "    rf_code = base64.b64decode(command['rf_code'])\n",
    "    device.send_data(rf_code)\n",
    "    print(\"Command sent successfully\")\n",
    "\n",
    "# Test light off command\n",
    "send_command('light_off')"
   ]
  },
  {
   "cell_type": "markdown",
   "metadata": {},
   "source": [
    "## Hood Up\n",
    "\n",
    "This section tests the hood control commands for raising and lowering the hood."
   ]
  },
  {
   "cell_type": "code",
   "execution_count": null,
   "metadata": {},
   "outputs": [],
   "source": [
    "# Test hood up command\n",
    "send_command('hood_speed1')\n",
    "\n",
    "# send_command('hood_speed2')\n"
   ]
  },
  {
   "cell_type": "markdown",
   "metadata": {},
   "source": [
    "## Hood Down\n",
    "\n",
    "This section tests the hood control commands for raising and lowering the hood."
   ]
  },
  {
   "cell_type": "code",
   "execution_count": null,
   "metadata": {},
   "outputs": [],
   "source": [
    "# Test hood down command\n",
    "send_command('hood_off')"
   ]
  }
 ],
 "metadata": {
  "kernelspec": {
   "display_name": ".venv",
   "language": "python",
   "name": "python3"
  },
  "language_info": {
   "codemirror_mode": {
    "name": "ipython",
    "version": 3
   },
   "file_extension": ".py",
   "mimetype": "text/x-python",
   "name": "python",
   "nbconvert_exporter": "python",
   "pygments_lexer": "ipython3",
   "version": "3.11.4"
  }
 },
 "nbformat": 4,
 "nbformat_minor": 2
}
