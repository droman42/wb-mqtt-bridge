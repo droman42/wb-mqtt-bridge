{
 "cells": [
  {
   "cell_type": "markdown",
   "metadata": {},
   "source": [
    "# Testing LG TV in the living room"
   ]
  },
  {
   "cell_type": "markdown",
   "metadata": {},
   "source": [
    "### Initial discovery, obtaining passkey"
   ]
  },
  {
   "cell_type": "code",
   "execution_count": null,
   "metadata": {},
   "outputs": [],
   "source": [
    "\n",
    "from pywebostv.discovery import *\n",
    "from pywebostv.connection import *\n",
    "from pywebostv.controls import *\n",
    "\n",
    "store = {}\n",
    "\n",
    "client = WebOSClient('192.168.110.133')\n",
    "client.connect()\n",
    "for status in client.register(store):\n",
    "    if status == WebOSClient.PROMPTED:\n",
    "        print(\"Please accept the connect on the TV!\")\n",
    "    elif status == WebOSClient.REGISTERED:\n",
    "        print(\"Registration successful!\")\n",
    "\n",
    "print(store)"
   ]
  },
  {
   "cell_type": "markdown",
   "metadata": {},
   "source": [
    "### Reconnect"
   ]
  },
  {
   "cell_type": "code",
   "execution_count": 11,
   "metadata": {},
   "outputs": [
    {
     "name": "stdout",
     "output_type": "stream",
     "text": [
      "{'client_key': '7cb66fab44c7d5b37f29e7db4d09e571'}\n",
      "192.168.110.133\n",
      "Registration successful!\n"
     ]
    }
   ],
   "source": [
    "from pywebostv.discovery import *\n",
    "from pywebostv.connection import *\n",
    "from pywebostv.controls import *\n",
    "import json\n",
    "\n",
    "# Load device configuration\n",
    "with open('config/devices/lg_tv_living.json', 'r') as f:\n",
    "    config = json.load(f)\n",
    "\n",
    "store = {\"client_key\": config['tv']['client_key']}\n",
    "print(store)\n",
    "print(config['tv']['ip_address'])\n",
    "\n",
    "client = WebOSClient(config['tv']['ip_address'])\n",
    "client.connect()\n",
    "for status in client.register(store):\n",
    "    if status == WebOSClient.PROMPTED:\n",
    "        print(\"Please accept the connect on the TV!\")\n",
    "    elif status == WebOSClient.REGISTERED:\n",
    "        print(\"Registration successful!\")"
   ]
  }
 ],
 "metadata": {
  "kernelspec": {
   "display_name": "wb-mqtt-bridge",
   "language": "python",
   "name": "python3"
  },
  "language_info": {
   "codemirror_mode": {
    "name": "ipython",
    "version": 3
   },
   "file_extension": ".py",
   "mimetype": "text/x-python",
   "name": "python",
   "nbconvert_exporter": "python",
   "pygments_lexer": "ipython3",
   "version": "3.13.2"
  }
 },
 "nbformat": 4,
 "nbformat_minor": 2
}
